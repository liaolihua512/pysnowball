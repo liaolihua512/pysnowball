{
 "cells": [
  {
   "cell_type": "code",
   "execution_count": 13,
   "metadata": {},
   "outputs": [],
   "source": [
    "import requests as req\n",
    "import json\n",
    "import time\n",
    "import pysnowball.selector as sel\n",
    "import pandas as pd\n",
    "import pysnowball as ball"
   ]
  },
  {
   "cell_type": "code",
   "execution_count": 14,
   "metadata": {},
   "outputs": [
    {
     "data": {
      "text/plain": [
       "'xq_a_token=b3669dba2f5aa440bdee32d6b891a46d5b2e6a6f;'"
      ]
     },
     "execution_count": 14,
     "metadata": {},
     "output_type": "execute_result"
    }
   ],
   "source": [
    "token = \"xq_a_token=b3669dba2f5aa440bdee32d6b891a46d5b2e6a6f;\"\n",
    "ball.set_token(token)"
   ]
  },
  {
   "cell_type": "code",
   "execution_count": 15,
   "metadata": {},
   "outputs": [],
   "source": [
    "years = [\"2015\",\"2016\",\"2017\",\"2018\"]\n",
    "month_day = \"1231\""
   ]
  },
  {
   "cell_type": "code",
   "execution_count": 16,
   "metadata": {},
   "outputs": [
    {
     "name": "stdout",
     "output_type": "stream",
     "text": [
      "2015....\n",
      "2016....\n",
      "2017....\n",
      "2018....\n"
     ]
    }
   ],
   "source": [
    "tables = {}\n",
    "for year in years:\n",
    "    print(year+\"....\")\n",
    "    index_list = [{\"roediluted.%s%s\"%(year,month_day):\"%s_%s\"%(15,50)},#ROE\n",
    "                  {\"pettm\":\"%s_%s\"%(0,50)},#PE\n",
    "                  {\"npay.%s%s\"%(year,month_day):\"%s_%s\"%(20,300)},#净利润增长率\n",
    "                  {\"indcode\": \"S4101\"}\n",
    "                 ]\n",
    "    dic = sel.select(size = 500,add_par=index_list)\n",
    "    df = pd.DataFrame(dic[\"data\"][\"list\"])\n",
    "    df = df[[\"symbol\",\"name\"]]\n",
    "    tables[year] = df\n",
    "    time.sleep(2)"
   ]
  },
  {
   "cell_type": "code",
   "execution_count": 12,
   "metadata": {},
   "outputs": [
    {
     "data": {
      "text/html": [
       "<div>\n",
       "<style scoped>\n",
       "    .dataframe tbody tr th:only-of-type {\n",
       "        vertical-align: middle;\n",
       "    }\n",
       "\n",
       "    .dataframe tbody tr th {\n",
       "        vertical-align: top;\n",
       "    }\n",
       "\n",
       "    .dataframe thead th {\n",
       "        text-align: right;\n",
       "    }\n",
       "</style>\n",
       "<table border=\"1\" class=\"dataframe\">\n",
       "  <thead>\n",
       "    <tr style=\"text-align: right;\">\n",
       "      <th></th>\n",
       "      <th>symbol</th>\n",
       "      <th>name</th>\n",
       "    </tr>\n",
       "  </thead>\n",
       "  <tbody>\n",
       "    <tr>\n",
       "      <th>0</th>\n",
       "      <td>SZ002039</td>\n",
       "      <td>黔源电力</td>\n",
       "    </tr>\n",
       "    <tr>\n",
       "      <th>1</th>\n",
       "      <td>SZ000966</td>\n",
       "      <td>长源电力</td>\n",
       "    </tr>\n",
       "    <tr>\n",
       "      <th>2</th>\n",
       "      <td>SZ000899</td>\n",
       "      <td>赣能股份</td>\n",
       "    </tr>\n",
       "    <tr>\n",
       "      <th>3</th>\n",
       "      <td>SH600483</td>\n",
       "      <td>福能股份</td>\n",
       "    </tr>\n",
       "    <tr>\n",
       "      <th>4</th>\n",
       "      <td>SH600452</td>\n",
       "      <td>涪陵电力</td>\n",
       "    </tr>\n",
       "    <tr>\n",
       "      <th>5</th>\n",
       "      <td>SH600236</td>\n",
       "      <td>桂冠电力</td>\n",
       "    </tr>\n",
       "    <tr>\n",
       "      <th>6</th>\n",
       "      <td>SH600027</td>\n",
       "      <td>华电国际</td>\n",
       "    </tr>\n",
       "  </tbody>\n",
       "</table>\n",
       "</div>"
      ],
      "text/plain": [
       "     symbol  name\n",
       "0  SZ002039  黔源电力\n",
       "1  SZ000966  长源电力\n",
       "2  SZ000899  赣能股份\n",
       "3  SH600483  福能股份\n",
       "4  SH600452  涪陵电力\n",
       "5  SH600236  桂冠电力\n",
       "6  SH600027  华电国际"
      ]
     },
     "execution_count": 12,
     "metadata": {},
     "output_type": "execute_result"
    }
   ],
   "source": [
    "tables['2015']"
   ]
  },
  {
   "cell_type": "code",
   "execution_count": 5,
   "metadata": {},
   "outputs": [],
   "source": [
    "df = pd.concat(tables,axis=0)"
   ]
  },
  {
   "cell_type": "code",
   "execution_count": 6,
   "metadata": {},
   "outputs": [],
   "source": [
    "df = df[[\"symbol\",\"name\"]]"
   ]
  },
  {
   "cell_type": "code",
   "execution_count": 7,
   "metadata": {},
   "outputs": [
    {
     "data": {
      "text/html": [
       "<div>\n",
       "<style scoped>\n",
       "    .dataframe tbody tr th:only-of-type {\n",
       "        vertical-align: middle;\n",
       "    }\n",
       "\n",
       "    .dataframe tbody tr th {\n",
       "        vertical-align: top;\n",
       "    }\n",
       "\n",
       "    .dataframe thead th {\n",
       "        text-align: right;\n",
       "    }\n",
       "</style>\n",
       "<table border=\"1\" class=\"dataframe\">\n",
       "  <thead>\n",
       "    <tr style=\"text-align: right;\">\n",
       "      <th></th>\n",
       "      <th></th>\n",
       "      <th>symbol</th>\n",
       "      <th>name</th>\n",
       "    </tr>\n",
       "  </thead>\n",
       "  <tbody>\n",
       "    <tr>\n",
       "      <th rowspan=\"7\" valign=\"top\">2015</th>\n",
       "      <th>0</th>\n",
       "      <td>SZ002039</td>\n",
       "      <td>黔源电力</td>\n",
       "    </tr>\n",
       "    <tr>\n",
       "      <th>1</th>\n",
       "      <td>SZ000966</td>\n",
       "      <td>长源电力</td>\n",
       "    </tr>\n",
       "    <tr>\n",
       "      <th>2</th>\n",
       "      <td>SZ000899</td>\n",
       "      <td>赣能股份</td>\n",
       "    </tr>\n",
       "    <tr>\n",
       "      <th>3</th>\n",
       "      <td>SH600483</td>\n",
       "      <td>福能股份</td>\n",
       "    </tr>\n",
       "    <tr>\n",
       "      <th>4</th>\n",
       "      <td>SH600452</td>\n",
       "      <td>涪陵电力</td>\n",
       "    </tr>\n",
       "    <tr>\n",
       "      <th>5</th>\n",
       "      <td>SH600236</td>\n",
       "      <td>桂冠电力</td>\n",
       "    </tr>\n",
       "    <tr>\n",
       "      <th>6</th>\n",
       "      <td>SH600027</td>\n",
       "      <td>华电国际</td>\n",
       "    </tr>\n",
       "    <tr>\n",
       "      <th rowspan=\"4\" valign=\"top\">2016</th>\n",
       "      <th>0</th>\n",
       "      <td>SZ002608</td>\n",
       "      <td>江苏国信</td>\n",
       "    </tr>\n",
       "    <tr>\n",
       "      <th>1</th>\n",
       "      <td>SZ000531</td>\n",
       "      <td>穗恒运A</td>\n",
       "    </tr>\n",
       "    <tr>\n",
       "      <th>2</th>\n",
       "      <td>SH600644</td>\n",
       "      <td>乐山电力</td>\n",
       "    </tr>\n",
       "    <tr>\n",
       "      <th>3</th>\n",
       "      <td>SH600167</td>\n",
       "      <td>联美控股</td>\n",
       "    </tr>\n",
       "    <tr>\n",
       "      <th rowspan=\"3\" valign=\"top\">2017</th>\n",
       "      <th>0</th>\n",
       "      <td>SZ003816</td>\n",
       "      <td>中国广核</td>\n",
       "    </tr>\n",
       "    <tr>\n",
       "      <th>1</th>\n",
       "      <td>SH600452</td>\n",
       "      <td>涪陵电力</td>\n",
       "    </tr>\n",
       "    <tr>\n",
       "      <th>2</th>\n",
       "      <td>SH600167</td>\n",
       "      <td>联美控股</td>\n",
       "    </tr>\n",
       "    <tr>\n",
       "      <th rowspan=\"3\" valign=\"top\">2018</th>\n",
       "      <th>0</th>\n",
       "      <td>SH600995</td>\n",
       "      <td>文山电力</td>\n",
       "    </tr>\n",
       "    <tr>\n",
       "      <th>1</th>\n",
       "      <td>SH600452</td>\n",
       "      <td>涪陵电力</td>\n",
       "    </tr>\n",
       "    <tr>\n",
       "      <th>2</th>\n",
       "      <td>SH600167</td>\n",
       "      <td>联美控股</td>\n",
       "    </tr>\n",
       "  </tbody>\n",
       "</table>\n",
       "</div>"
      ],
      "text/plain": [
       "          symbol  name\n",
       "2015 0  SZ002039  黔源电力\n",
       "     1  SZ000966  长源电力\n",
       "     2  SZ000899  赣能股份\n",
       "     3  SH600483  福能股份\n",
       "     4  SH600452  涪陵电力\n",
       "     5  SH600236  桂冠电力\n",
       "     6  SH600027  华电国际\n",
       "2016 0  SZ002608  江苏国信\n",
       "     1  SZ000531  穗恒运A\n",
       "     2  SH600644  乐山电力\n",
       "     3  SH600167  联美控股\n",
       "2017 0  SZ003816  中国广核\n",
       "     1  SH600452  涪陵电力\n",
       "     2  SH600167  联美控股\n",
       "2018 0  SH600995  文山电力\n",
       "     1  SH600452  涪陵电力\n",
       "     2  SH600167  联美控股"
      ]
     },
     "execution_count": 7,
     "metadata": {},
     "output_type": "execute_result"
    }
   ],
   "source": [
    "df"
   ]
  },
  {
   "cell_type": "code",
   "execution_count": null,
   "metadata": {},
   "outputs": [],
   "source": []
  }
 ],
 "metadata": {
  "kernelspec": {
   "display_name": "Python 3",
   "language": "python",
   "name": "python3"
  },
  "language_info": {
   "codemirror_mode": {
    "name": "ipython",
    "version": 3
   },
   "file_extension": ".py",
   "mimetype": "text/x-python",
   "name": "python",
   "nbconvert_exporter": "python",
   "pygments_lexer": "ipython3",
   "version": "3.7.0"
  }
 },
 "nbformat": 4,
 "nbformat_minor": 2
}
